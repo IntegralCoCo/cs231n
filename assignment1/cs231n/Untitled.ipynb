{
 "cells": [
  {
   "cell_type": "code",
   "execution_count": 29,
   "metadata": {},
   "outputs": [
    {
     "name": "stdout",
     "output_type": "stream",
     "text": [
      "[0 1 2 3]\n",
      "[[ 7  8  0  3]\n",
      " [ 4  0  6  3]\n",
      " [ 7  8  0  3]\n",
      " [10 11 12  0]]\n"
     ]
    }
   ],
   "source": [
    "import numpy as np\n",
    "score=np.array([[1,2,3,3],[4,5,6,3],[7,8,9,3],[10,11,12,3]])\n",
    "y=np.array([2,1,2,3])\n",
    "x=np.array(range(4))\n",
    "print(x)\n",
    "score=score[y]\n",
    "score[x,y]=0\n",
    "print(score)"
   ]
  },
  {
   "cell_type": "code",
   "execution_count": null,
   "metadata": {},
   "outputs": [],
   "source": []
  },
  {
   "cell_type": "code",
   "execution_count": null,
   "metadata": {},
   "outputs": [],
   "source": []
  }
 ],
 "metadata": {
  "kernelspec": {
   "display_name": "Python 3",
   "language": "python",
   "name": "python3"
  },
  "language_info": {
   "codemirror_mode": {
    "name": "ipython",
    "version": 3
   },
   "file_extension": ".py",
   "mimetype": "text/x-python",
   "name": "python",
   "nbconvert_exporter": "python",
   "pygments_lexer": "ipython3",
   "version": "3.7.6"
  }
 },
 "nbformat": 4,
 "nbformat_minor": 2
}
